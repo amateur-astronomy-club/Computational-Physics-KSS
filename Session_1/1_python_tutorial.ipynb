{
  "cells": [
    {
      "cell_type": "markdown",
      "metadata": {
        "id": "H5-hh59BWXw3"
      },
      "source": [
        "# Basic Declaration and Datatypes"
      ]
    },
    {
      "cell_type": "code",
      "execution_count": 1,
      "metadata": {
        "colab": {
          "base_uri": "https://localhost:8080/"
        },
        "id": "R4U2kq-JQkYG",
        "outputId": "0812da70-8592-424d-fe1c-55af7daac138"
      },
      "outputs": [
        {
          "name": "stdout",
          "output_type": "stream",
          "text": [
            "3\n",
            "5.6\n",
            "AAC\n",
            "1 <class 'int'>\n",
            "2.5 <class 'float'>\n",
            "3 <class 'str'>\n",
            "(5+7j) <class 'complex'>\n",
            "None <class 'NoneType'>\n"
          ]
        }
      ],
      "source": [
        "a = 3  #int\n",
        "b = 5.6  #float\n",
        "s = \"AAC\"  #str\n",
        "x, y, z = 1, 2.5, '3'   #multiple assignment\n",
        "imagine = 5+7j\n",
        "null = None\n",
        "print(a)\n",
        "print(b)\n",
        "print(s)\n",
        "print(x,type(x))\n",
        "print(y,type(y))\n",
        "print(z,type(z))\n",
        "print(imagine,type(imagine))\n",
        "print(null,type(null))"
      ]
    },
    {
      "cell_type": "code",
      "execution_count": 3,
      "metadata": {
        "colab": {
          "base_uri": "https://localhost:8080/",
          "height": 138
        },
        "id": "CNbEAoGvZ-93",
        "outputId": "ebd2dc94-84e9-4eae-9727-5a208828f380"
      },
      "outputs": [
        {
          "ename": "IndentationError",
          "evalue": "unexpected indent (<ipython-input-3-7d9707ad514f>, line 2)",
          "output_type": "error",
          "traceback": [
            "\u001b[0;36m  File \u001b[0;32m\"<ipython-input-3-7d9707ad514f>\"\u001b[0;36m, line \u001b[0;32m2\u001b[0m\n\u001b[0;31m    p=6\u001b[0m\n\u001b[0m    ^\u001b[0m\n\u001b[0;31mIndentationError\u001b[0m\u001b[0;31m:\u001b[0m unexpected indent\n"
          ]
        }
      ],
      "source": [
        "a=5  \n",
        "p=6"
      ]
    },
    {
      "cell_type": "markdown",
      "metadata": {
        "id": "3sU2KAsYasDf"
      },
      "source": [
        "Naming rules\n",
        "*   Variables can only contain letters, numbers, and underscores. Variable names can start with a letter or an underscore, but can not start with a number. **Special symbols ($#% etc) are not allowed.**\n",
        "*   Spaces are not allowed in variable names, so we use underscores instead of spaces. For example, use student_name instead of \"student name\".\n",
        "* You cannot use Python keywords as variable names.\n",
        "--------------------------------------------------------------------------------\n",
        "\n"
      ]
    },
    {
      "cell_type": "markdown",
      "metadata": {
        "id": "TO7fCx_sdRUW"
      },
      "source": [
        "# Basic input and output"
      ]
    },
    {
      "cell_type": "code",
      "execution_count": 4,
      "metadata": {
        "colab": {
          "base_uri": "https://localhost:8080/"
        },
        "id": "nSRAs-2UXt8G",
        "outputId": "907f1e5f-ddc4-477b-87eb-329ba259adbd"
      },
      "outputs": [
        {
          "name": "stdout",
          "output_type": "stream",
          "text": [
            "This is combined output 5 5.6\n",
            "This is also combined##5##5.6$$One more combined output%%5%%5.6END\n",
            "8 True ab\n",
            "False True False\n"
          ]
        }
      ],
      "source": [
        "print(\"This is combined output\", a, b)\n",
        "print(\"This is also combined\", a, b, sep=\"##\", end='$$')\n",
        "print(\"One more combined output\", a, b, sep='%%', end='END')\n",
        "print()\n",
        "print(5+3,6>3,'a'+'b')\n",
        "print(3==2,5==2 or 7>3,not(5!=4))\n",
        "#relational operators: > ,<,<=,>=,==,!=\n",
        "#logical operators: and not or "
      ]
    },
    {
      "cell_type": "code",
      "execution_count": 10,
      "metadata": {
        "colab": {
          "base_uri": "https://localhost:8080/"
        },
        "id": "bcScojvuTZRt",
        "outputId": "c6cc2fcc-88a3-490b-9780-7d2bc8f0e9ae"
      },
      "outputs": [
        {
          "name": "stdout",
          "output_type": "stream",
          "text": [
            "3 <class 'int'>\n"
          ]
        }
      ],
      "source": [
        "mystring=input(\"Enter the input\")\n",
        "#a = 6.5\n",
        "#print(a, type(a))\n",
        "#b = int(a)\n",
        "#print(b, type(b))\n",
        "mystring=int(mystring)\n",
        "print(mystring,type(mystring))\n"
      ]
    },
    {
      "cell_type": "markdown",
      "metadata": {
        "id": "7C8Qq9Z4j2q6"
      },
      "source": [
        "# Conditions: if, elif, else"
      ]
    },
    {
      "cell_type": "code",
      "execution_count": 13,
      "metadata": {
        "colab": {
          "base_uri": "https://localhost:8080/"
        },
        "id": "UqKldn1vj1o3",
        "outputId": "f04d8256-b9f6-4a26-b739-5818d1e5ded7"
      },
      "outputs": [
        {
          "name": "stdout",
          "output_type": "stream",
          "text": [
            "14\n"
          ]
        }
      ],
      "source": [
        "a = 8\n",
        "if a>3:\n",
        "  a=a+6 # Variable = value\n",
        "print(a)"
      ]
    },
    {
      "cell_type": "code",
      "execution_count": 14,
      "metadata": {
        "colab": {
          "base_uri": "https://localhost:8080/"
        },
        "id": "6ZeSPjTrkFkw",
        "outputId": "2c62f62c-516e-4a3a-d7f3-20968f99f17f"
      },
      "outputs": [
        {
          "name": "stdout",
          "output_type": "stream",
          "text": [
            "4  = 4\n"
          ]
        }
      ],
      "source": [
        "a = 4\n",
        "if a>4:\n",
        "  print(a,\" > 4\")\n",
        "elif a<4:\n",
        "  print(a,\" < 4\")\n",
        "else:\n",
        "  print(a,\" = 4\")"
      ]
    },
    {
      "cell_type": "code",
      "execution_count": 15,
      "metadata": {
        "colab": {
          "base_uri": "https://localhost:8080/"
        },
        "id": "ZkbLSymhkFp_",
        "outputId": "fc7fac31-6a17-4c38-db9d-5b02ed918e67"
      },
      "outputs": [
        {
          "name": "stdout",
          "output_type": "stream",
          "text": [
            "4  greater than 3 and less than 7\n"
          ]
        }
      ],
      "source": [
        "if a>3:\n",
        "  if a<7:\n",
        "        print(a,\" greater than 3 and less than 7\")\n",
        "  else:\n",
        "        print(a,\"greater than 3 but not less than 7\")\n",
        "else:\n",
        "    print(\"hello\")"
      ]
    },
    {
      "cell_type": "markdown",
      "metadata": {
        "id": "QbLMzPTQlT5Z"
      },
      "source": [
        "# Loops: For, while"
      ]
    },
    {
      "cell_type": "code",
      "execution_count": 16,
      "metadata": {
        "colab": {
          "base_uri": "https://localhost:8080/",
          "height": 132
        },
        "id": "q4ZlOWiIklkA",
        "outputId": "e90a590a-04c1-4c6f-aa7a-8a1a452cb737"
      },
      "outputs": [
        {
          "name": "stdout",
          "output_type": "stream",
          "text": [
            "2\n",
            "3\n",
            "4\n",
            "5\n",
            "6\n",
            "7\n",
            "------------------------\n",
            "1\n",
            "3\n",
            "5\n",
            "------------------------\n",
            "5\n",
            "4\n",
            "3\n",
            "2\n",
            "1\n",
            "0\n",
            "------------------------\n",
            "0\n",
            "1\n",
            "2\n",
            "3\n",
            "4\n",
            "5\n"
          ]
        }
      ],
      "source": [
        "#loop\n",
        "#for loop\n",
        "#syntax\n",
        "#for x in range(start,end+1)\n",
        "#lets print number from 1 to 5\n",
        "for x in range(2,8):\n",
        "    print(x)\n",
        "#lower bound is always included\n",
        "#upper bound is always excluded\n",
        "print(\"------------------------\")\n",
        "#increment the number by 2\n",
        "for x in range(1,6,2):\n",
        " \tprint(x)\n",
        "print(\"------------------------\")\n",
        "#print number from 5 to 0\n",
        "for x in range(5,-1,-1):\n",
        " \tprint(x)\n",
        "print(\"------------------------\")\n",
        "#what if only upper bound is given lower bound will be taken as 0\n",
        "for x in range(6):\n",
        "   print(x)\n"
      ]
    },
    {
      "cell_type": "code",
      "execution_count": 24,
      "metadata": {
        "colab": {
          "base_uri": "https://localhost:8080/"
        },
        "id": "92oUuhTnklsw",
        "outputId": "8e8dd281-4c2c-4346-f55d-ba433b4d5bde"
      },
      "outputs": [
        {
          "name": "stdout",
          "output_type": "stream",
          "text": [
            "1\n",
            "2\n",
            "5\n",
            "z =  6\n"
          ]
        }
      ],
      "source": [
        "#continue statement \n",
        "z=0\n",
        "#for x in range(1,5):\n",
        "#\tprint(x)\n",
        "#\tz = z + 2\n",
        "for x in range(1,6):\n",
        "\tif x==3 or x==4: # and checks both conditions simultaneously whereas or checks either one\n",
        "\t\tcontinue\n",
        "\tprint(x)\n",
        "\tz=z+2\n",
        "print(\"z = \",z)"
      ]
    },
    {
      "cell_type": "code",
      "execution_count": 19,
      "metadata": {
        "colab": {
          "base_uri": "https://localhost:8080/"
        },
        "id": "tVfX-oJsDiEu",
        "outputId": "96b32bdd-5697-4f3d-8a3c-9442723cd023"
      },
      "outputs": [
        {
          "name": "stdout",
          "output_type": "stream",
          "text": [
            "1\n",
            "2\n",
            "y =  2\n"
          ]
        }
      ],
      "source": [
        "#break statement\n",
        "y=0\n",
        "for x in range(1,5):\n",
        "\tif x==3:\n",
        "\t\tbreak\n",
        "\tprint(x)\n",
        "\ty=y+1\n",
        "print(\"y = \",y)"
      ]
    },
    {
      "cell_type": "code",
      "execution_count": 21,
      "metadata": {
        "colab": {
          "base_uri": "https://localhost:8080/"
        },
        "id": "Qby15InvD19D",
        "outputId": "cf81c2fc-1fc7-499e-d1cc-917b1baa6c6a"
      },
      "outputs": [
        {
          "name": "stdout",
          "output_type": "stream",
          "text": [
            "2\n",
            "3\n",
            "4\n",
            "5\n"
          ]
        }
      ],
      "source": [
        "#while loop\n",
        "#syntax\n",
        "#while(condition):\n",
        "#print number from 1 to 5\n",
        "x=2\n",
        "while x<=5:\n",
        "\tprint(x)\n",
        "\tx=x+1"
      ]
    },
    {
      "cell_type": "code",
      "execution_count": 25,
      "metadata": {
        "colab": {
          "base_uri": "https://localhost:8080/"
        },
        "id": "IdgPfcZcD8A9",
        "outputId": "89aeaa13-5e87-4724-9e3c-3fe6f237ed30"
      },
      "outputs": [
        {
          "name": "stdout",
          "output_type": "stream",
          "text": [
            "2\n",
            "3\n",
            "4\n",
            "5\n",
            "--------------------\n",
            "1\n",
            "2\n"
          ]
        }
      ],
      "source": [
        "#continue statement in while\n",
        "x=1\n",
        "while x<=5:\n",
        "  if x==1:\n",
        "    x=x+1\n",
        "    continue\n",
        "    \n",
        "  print(x)\n",
        "  x=x+1\n",
        "print(\"--------------------\")\n",
        "#break statement in while\n",
        "x=1\n",
        "while x<=5:\n",
        "  if x==3:\n",
        "    break\n",
        "  print(x)\n",
        "  x=x+1\n"
      ]
    },
    {
      "cell_type": "markdown",
      "metadata": {
        "id": "BvytjSDjduhr"
      },
      "source": [
        "# Lists, Sets and Tuples"
      ]
    },
    {
      "cell_type": "code",
      "execution_count": 26,
      "metadata": {
        "colab": {
          "base_uri": "https://localhost:8080/"
        },
        "id": "zjvD8yeNUzzh",
        "outputId": "faad2b98-246a-4fe3-dafe-9f9368cf8815"
      },
      "outputs": [
        {
          "name": "stdout",
          "output_type": "stream",
          "text": [
            "range(0, 10) <class 'range'>\n",
            "[5, 6, 7]\n",
            "[4.5, 'nitk']\n",
            "<class 'list'>\n",
            "[]\n",
            "[0, 1, 2, 3, 4, 5, 6, 7, 8, 9]\n"
          ]
        }
      ],
      "source": [
        "a=[5,6,7]\n",
        "b=[4.5,'nitk']\n",
        "\n",
        "mt=[]\n",
        "c=list()\n",
        "d=range(10)\n",
        "print(d,type(d))\n",
        "d=list(range(10)) #range(a:b:c) generates a range of numbers from a to b-1 with step size of c\n",
        "print(a,b,type(b),c,d,sep='\\n')"
      ]
    },
    {
      "cell_type": "code",
      "execution_count": 27,
      "metadata": {
        "colab": {
          "base_uri": "https://localhost:8080/"
        },
        "id": "baAY4WnoV2ej",
        "outputId": "071dfea7-690f-4a58-9296-e8e5782b3426"
      },
      "outputs": [
        {
          "name": "stdout",
          "output_type": "stream",
          "text": [
            "[0, 0, 0, 0, 0]\n",
            "[[2, 3, 4], [7, 6, 8], [8, 9]]\n"
          ]
        }
      ],
      "source": [
        "a=[0]*5\n",
        "print(a)\n",
        "b=[[2,3,4],[7,6,8],[8,9]]\n",
        "print(b)"
      ]
    },
    {
      "cell_type": "code",
      "execution_count": 30,
      "metadata": {
        "colab": {
          "base_uri": "https://localhost:8080/"
        },
        "id": "L5woWcUltJ0L",
        "outputId": "38539d31-2ad7-457f-905b-9ee91d0d41eb"
      },
      "outputs": [
        {
          "name": "stdout",
          "output_type": "stream",
          "text": [
            "[1, 2, 3, 4, 5, 6, 7, 8, 9, 10]\n",
            "1\n",
            "2\n",
            "3\n",
            "4\n",
            "5\n",
            "6\n",
            "7\n",
            "8\n",
            "9\n",
            "10\n"
          ]
        }
      ],
      "source": [
        "a=list(range(1,11))\n",
        "print(a)\n",
        "for x in a:\n",
        "  if x>0:\n",
        "    print(x)"
      ]
    },
    {
      "cell_type": "code",
      "execution_count": 31,
      "metadata": {
        "colab": {
          "base_uri": "https://localhost:8080/"
        },
        "id": "EQXkqqgCfbwf",
        "outputId": "f21ab9c5-da91-4e7c-9386-69a38dd80daa"
      },
      "outputs": [
        {
          "name": "stdout",
          "output_type": "stream",
          "text": [
            "First Element:  1\n",
            "Last two elements:  5 4\n",
            "With Start and Stop:  [2, 3, 4]\n",
            "Only start:  [3, 4, 5]\n",
            "Only Stop:  [1, 2, 3]\n",
            "Negative slice:  [2, 3]\n",
            "Slice with no end but step of 2: [1, 3, 5]\n",
            "True True\n"
          ]
        }
      ],
      "source": [
        "a=[1,2,3,4,5]\n",
        "# 0 1 2 3 4\n",
        "print(\"First Element: \", a[0])\n",
        "print(\"Last two elements: \",a[-1],a[-2])\n",
        "\n",
        "#Slicing \n",
        "#a[start:end+1:step]\n",
        "#start default=0\n",
        "#end default=lenght of list\n",
        "#step default=1\n",
        "\n",
        "print(\"With Start and Stop: \",a[1:4]) #starts at index 1 stops at 3\n",
        "print(\"Only start: \",a[2:]) #from 2nd index till end\n",
        "print(\"Only Stop: \",a[:3]) #till index 2\n",
        "\n",
        "print(\"Negative slice: \", a[1:-2])\n",
        "print(\"Slice with no end but step of 2:\",a[0::2])\n",
        "\n",
        "print(5 in a,6 not in a) #in membership operator"
      ]
    },
    {
      "cell_type": "code",
      "execution_count": 32,
      "metadata": {
        "colab": {
          "base_uri": "https://localhost:8080/"
        },
        "id": "Zs3oZYcQf8Bf",
        "outputId": "e94807d8-b358-4595-f219-c497f6f98908"
      },
      "outputs": [
        {
          "name": "stdout",
          "output_type": "stream",
          "text": [
            "True\n"
          ]
        }
      ],
      "source": [
        "a=[0,2,4,6,8,10]\n",
        "b=[x for x in range(11) if x%2==0] #Remainder\n",
        "print(a==b)"
      ]
    },
    {
      "cell_type": "code",
      "execution_count": 33,
      "metadata": {
        "colab": {
          "base_uri": "https://localhost:8080/"
        },
        "id": "8XkUc9b3jpGL",
        "outputId": "35e94373-6153-4b64-b290-d272b2b6e405"
      },
      "outputs": [
        {
          "name": "stdout",
          "output_type": "stream",
          "text": [
            "[1, 2, 3, 4, 5, 6, 7, 8]\n",
            "[1, 2, 3, 4, 5, 6, 7, 8]\n",
            "[8, 7, 6, 5, 4, 3, 2, 1]\n"
          ]
        }
      ],
      "source": [
        "mainlist=[[1,2,3],[4,5,6],[-1,7,8]]#-->[1,2,3,4,5,6,7,8]\n",
        "l=[]\n",
        "#Classic loops\n",
        "for sublist in mainlist:\n",
        "  for item in sublist:\n",
        "    if item>0:\n",
        "      l.append(item)\n",
        "print(l)\n",
        "#One liner with list comprehension\n",
        "q=[item for sublist in mainlist for item in sublist if item>0]\n",
        "print(q)\n",
        "print(q[::-1])"
      ]
    },
    {
      "cell_type": "code",
      "execution_count": 34,
      "metadata": {
        "colab": {
          "base_uri": "https://localhost:8080/"
        },
        "id": "76RK7lgzqc1c",
        "outputId": "425a034e-020a-4028-a35a-1ac8aa2f8da5"
      },
      "outputs": [
        {
          "name": "stdout",
          "output_type": "stream",
          "text": [
            "3\n",
            "list append: [1, 2, 3, 4]\n",
            "list clear: []\n",
            "This is b without copying: [4, 5, 6, 4]\n",
            "d: [4, 5, 6, 4, 3] c: [4, 5, 6, 4]\n",
            "4 repeats 2 times in [4, 5, 6, 4, 3]\n",
            "with append: [1, 2, 3, [4, 5]]\n",
            "With extend: [1, 2, 3, 4, 5]\n",
            "First occurence of 4 is at index:3 in [1, 2, 3, 4, 5]\n"
          ]
        }
      ],
      "source": [
        "a=[1,2,3]\n",
        "print(len(a)) #len() return length of whatever object is passed to it in this case a list\n",
        "a.append(4)  # append()\tAdds an element at the end of the list\n",
        "print(\"list append:\",a)\n",
        "b=[1,2,3]\n",
        "b.clear()# clear()\tRemoves all the elements from the list\n",
        "print(\"list clear:\",b)\n",
        "\n",
        "d=[4,5,6]\n",
        "b=d  #expect b=[4,5,6]\n",
        "d.append(4)\n",
        "print(\"This is b without copying:\",b)\n",
        "\n",
        "c=d.copy()# copy()\tReturns a copy of the list\n",
        "d.append(3)\n",
        "print(\"d:\",d,\"c:\",c)\n",
        "\n",
        "\n",
        "print(f\"4 repeats {d.count(4)} times in {d}\") # count()\tReturns the number of elements with the specified value\n",
        "a=[1,2,3]\n",
        "b=[4,5]\n",
        "a.append(b)\n",
        "print(\"with append:\",a)\n",
        "a=[1,2,3]\n",
        "b=[4,5]\n",
        "a.extend(b)# extend()\tAdd the elements of a list (or any iterable), to the end of the current list\n",
        "print(\"With extend:\",a)\n",
        "print(f\"First occurence of 4 is at index:{a.index(4)} in {a}\")# index()\tReturns the index of the first element with the specified value\n",
        "\n",
        "#list=[2,3,1,1,4,5]\n",
        "#list.index(1)-->2"
      ]
    },
    {
      "cell_type": "code",
      "execution_count": 36,
      "metadata": {
        "colab": {
          "base_uri": "https://localhost:8080/",
          "height": 325
        },
        "id": "D0syK3LjlLvX",
        "outputId": "5aff70dc-61c2-49eb-e820-6e06e866782b"
      },
      "outputs": [
        {
          "name": "stdout",
          "output_type": "stream",
          "text": [
            "Insertion: [1, 2, 'inserted', 3, 4, 5]\n",
            "After pop: a: [1, 2, 3, 4] b: 5\n",
            "After removal: [1, 3, 4] None\n",
            "reversed: [3, 2, 1]\n",
            "After sort: [1, 2, 3]\n",
            "After sorted: [3, 2, 1] [1, 2, 3]\n"
          ]
        },
        {
          "ename": "NameError",
          "evalue": "name 'a' is not defined",
          "output_type": "error",
          "traceback": [
            "\u001b[0;31m---------------------------------------------------------------------------\u001b[0m",
            "\u001b[0;31mNameError\u001b[0m                                 Traceback (most recent call last)",
            "\u001b[0;32m<ipython-input-36-d7a08c8af09f>\u001b[0m in \u001b[0;36m<module>\u001b[0;34m\u001b[0m\n\u001b[1;32m     15\u001b[0m \u001b[0mprint\u001b[0m\u001b[0;34m(\u001b[0m\u001b[0;34m\"After sorted:\"\u001b[0m\u001b[0;34m,\u001b[0m\u001b[0mc\u001b[0m\u001b[0;34m,\u001b[0m\u001b[0ma\u001b[0m\u001b[0;34m)\u001b[0m\u001b[0;34m\u001b[0m\u001b[0;34m\u001b[0m\u001b[0m\n\u001b[1;32m     16\u001b[0m \u001b[0;32mdel\u001b[0m\u001b[0;34m(\u001b[0m\u001b[0ma\u001b[0m\u001b[0;34m)\u001b[0m\u001b[0;34m\u001b[0m\u001b[0;34m\u001b[0m\u001b[0m\n\u001b[0;32m---> 17\u001b[0;31m \u001b[0mprint\u001b[0m\u001b[0;34m(\u001b[0m\u001b[0ma\u001b[0m\u001b[0;34m)\u001b[0m\u001b[0;34m\u001b[0m\u001b[0;34m\u001b[0m\u001b[0m\n\u001b[0m",
            "\u001b[0;31mNameError\u001b[0m: name 'a' is not defined"
          ]
        }
      ],
      "source": [
        "a=[1,2,3,4,5]\n",
        "a.insert(2,'inserted') # insert()\tAdds an element at the specified position\n",
        "print(\"Insertion:\",a) \n",
        "a=[1,2,3,4,5]\n",
        "b=a.pop()# pop()\tRemoves the element at the specified position (default -1) and returns it\n",
        "print(\"After pop: a:\",a,\"b:\",b)\n",
        "b=a.remove(2)# remove()\tRemoves the first item with the specified value but does not return\n",
        "print(\"After removal:\",a,b)\n",
        "a=[1,2,3]\n",
        "a.reverse()# reverse()\tReverses the order of the list\n",
        "print(\"reversed:\",a)\n",
        "a.sort(reverse=False)# sort()\tSorts the list\n",
        "print(\"After sort:\",a)\n",
        "c=sorted(a,reverse=True)\n",
        "print(\"After sorted:\",c,a)\n",
        "del(a)\n",
        "print(a)"
      ]
    },
    {
      "cell_type": "code",
      "execution_count": 37,
      "metadata": {
        "colab": {
          "base_uri": "https://localhost:8080/"
        },
        "id": "Bws5IBGOy3kI",
        "outputId": "a0e86197-f0a4-406d-a0c5-cda1e46e22d2"
      },
      "outputs": [
        {
          "name": "stdout",
          "output_type": "stream",
          "text": [
            "The first color is: red\n",
            "\n",
            "The available colors are:\n",
            "- red\n",
            "- green\n",
            "- blue\n"
          ]
        }
      ],
      "source": [
        "#Tuples\n",
        "colors = ('red', 'green', 'blue')\n",
        "print(\"The first color is: \" + colors[0])\n",
        "\n",
        "print(\"\\nThe available colors are:\")\n",
        "for x in colors:\n",
        "    print(\"- \" + x)"
      ]
    },
    {
      "cell_type": "code",
      "execution_count": 38,
      "metadata": {
        "colab": {
          "base_uri": "https://localhost:8080/",
          "height": 175
        },
        "id": "p54EDS3n2sdx",
        "outputId": "581caf96-002b-4e81-ef1f-93979729ebfa"
      },
      "outputs": [
        {
          "ename": "AttributeError",
          "evalue": "'tuple' object has no attribute 'append'",
          "output_type": "error",
          "traceback": [
            "\u001b[0;31m---------------------------------------------------------------------------\u001b[0m",
            "\u001b[0;31mAttributeError\u001b[0m                            Traceback (most recent call last)",
            "\u001b[0;32m<ipython-input-38-0fb801c902bf>\u001b[0m in \u001b[0;36m<module>\u001b[0;34m\u001b[0m\n\u001b[0;32m----> 1\u001b[0;31m \u001b[0mcolors\u001b[0m\u001b[0;34m.\u001b[0m\u001b[0mappend\u001b[0m\u001b[0;34m(\u001b[0m\u001b[0;34m'purple'\u001b[0m\u001b[0;34m)\u001b[0m \u001b[0;31m#Immutable\u001b[0m\u001b[0;34m\u001b[0m\u001b[0;34m\u001b[0m\u001b[0m\n\u001b[0m",
            "\u001b[0;31mAttributeError\u001b[0m: 'tuple' object has no attribute 'append'"
          ]
        }
      ],
      "source": [
        "colors.append('purple') #Immutable"
      ]
    },
    {
      "cell_type": "code",
      "execution_count": 40,
      "metadata": {
        "colab": {
          "base_uri": "https://localhost:8080/"
        },
        "id": "GXW91Ayn2tUk",
        "outputId": "023348c2-c7b7-4ced-ceb0-548b71859a5c"
      },
      "outputs": [
        {
          "name": "stdout",
          "output_type": "stream",
          "text": [
            "<class 'int'>\n",
            "<class 'tuple'>\n",
            "False <class 'tuple'>\n"
          ]
        }
      ],
      "source": [
        "Tup1 = (2+3)\n",
        "print(type(Tup1))\n",
        "\n",
        "Tup1 = (2,)\n",
        "print(type(Tup1))\n",
        "\n",
        "tup=() # or tup=tuple()\n",
        "print(tup==None,type(tup))"
      ]
    },
    {
      "cell_type": "code",
      "execution_count": null,
      "metadata": {
        "colab": {
          "base_uri": "https://localhost:8080/"
        },
        "id": "r5VrmJGZ3BUT",
        "outputId": "33854478-5a1f-4f10-d33c-03b725daf268"
      },
      "outputs": [],
      "source": [
        "Tup = (1,2,3,0,3,1,3)\n",
        "print(\"Select items:\",Tup[-1],Tup[:3])\n",
        "print(\"length: \",len(Tup))\n",
        "print(\"sum: \",sum(Tup))\n",
        "print(\"any: \",any(Tup)) #works like OR operator\n",
        "print(\"all :\",all(Tup)) #works like AND operator\n",
        "print(\"count: \",Tup.count(3))\n",
        "print(\"index: \",Tup.index(1))\n",
        "\n",
        "if 3 in Tup:\n",
        "  print(\"YES\")\n"
      ]
    },
    {
      "cell_type": "code",
      "execution_count": null,
      "metadata": {
        "colab": {
          "base_uri": "https://localhost:8080/"
        },
        "id": "1iCCmeNG32Nw",
        "outputId": "03038f67-e87f-4d13-ab7f-a20272b7b433"
      },
      "outputs": [],
      "source": [
        "Tup1=(1,2,3,4)\n",
        "Tup2=(\"a\",\"b\",\"c\")\n",
        "\n",
        "Tup3 = Tup1+Tup2\n",
        "print(Tup3)"
      ]
    },
    {
      "cell_type": "code",
      "execution_count": null,
      "metadata": {
        "colab": {
          "base_uri": "https://localhost:8080/"
        },
        "id": "zpRiDdFTi9uP",
        "outputId": "3bd4692e-120e-4356-e2e7-0448a48a93fd"
      },
      "outputs": [],
      "source": [
        "# Enumerate() in python\n",
        "l1 = (\"eat\",\"sleep\",\"repeat\")\n",
        "for ele in enumerate(l1): \n",
        "    print(ele,type(ele))\n",
        "\n",
        "print(\"\\n\")\n",
        "for ele in enumerate(l1): \n",
        "    print(\"At index \",ele[0],\"value =\",ele[1])\n"
      ]
    },
    {
      "cell_type": "code",
      "execution_count": 41,
      "metadata": {
        "colab": {
          "base_uri": "https://localhost:8080/"
        },
        "id": "9IGCkc88OBOs",
        "outputId": "fd441c93-0dcb-4e51-8300-70c74c2b7396"
      },
      "outputs": [
        {
          "name": "stdout",
          "output_type": "stream",
          "text": [
            "{'circle', 'triangle', 'square'}\n"
          ]
        }
      ],
      "source": [
        "#Sets\n",
        "\n",
        "shapes = ['circle','square','triangle','circle']\n",
        "set_of_shapes = set(shapes)\n",
        "print(set_of_shapes)\n",
        "#for lists and tuples for access O(n)\n",
        "#for sets and dict access is O(1)\n"
      ]
    },
    {
      "cell_type": "code",
      "execution_count": null,
      "metadata": {
        "colab": {
          "base_uri": "https://localhost:8080/"
        },
        "id": "4Q7O7wY_OBR0",
        "outputId": "2549531e-5c80-4155-bb61-9bdfcb69e147"
      },
      "outputs": [],
      "source": [
        "set_of_shapes = {'circle','square','triangle','circle',6}\n",
        "for shape in set_of_shapes:\n",
        "    print(shape)"
      ]
    },
    {
      "cell_type": "code",
      "execution_count": null,
      "metadata": {
        "colab": {
          "base_uri": "https://localhost:8080/"
        },
        "id": "sI7DGzupOBUX",
        "outputId": "abca9933-1767-4545-b584-ab709349cb0c"
      },
      "outputs": [],
      "source": [
        "set_of_shapes.add('polygon') \n",
        "print(set_of_shapes)"
      ]
    },
    {
      "cell_type": "code",
      "execution_count": null,
      "metadata": {
        "colab": {
          "base_uri": "https://localhost:8080/"
        },
        "id": "bfo2sNIMPaO0",
        "outputId": "8bb6f7d7-de14-4214-d591-f7015c474078"
      },
      "outputs": [],
      "source": [
        "print(set_of_shapes)"
      ]
    },
    {
      "cell_type": "code",
      "execution_count": null,
      "metadata": {
        "colab": {
          "base_uri": "https://localhost:8080/"
        },
        "id": "yBNqoDv_PaRL",
        "outputId": "3b83a83c-37d0-45e5-f70f-8c469b7a6ae3"
      },
      "outputs": [],
      "source": [
        "#SET OPERATIONS:\n",
        "\n",
        "# Test if circle is IN the set (i.e. exist)\n",
        "print('Circle is in the set: ', ('circle' in set_of_shapes))\n",
        "print('Rhombus is in the set:', ('rhombus' in set_of_shapes))\n",
        "\n",
        "favourites_shapes = set(['circle','triangle','hexagon'])\n",
        "\n",
        "# Intersection\n",
        "intersection=set_of_shapes.intersection(favourites_shapes)\n",
        "print(\"intersection\",intersection)\n",
        "\n",
        "#Union\n",
        "union=set_of_shapes.union(favourites_shapes)\n",
        "print(\"union\",union)\n",
        "\n",
        "#Difference\n",
        "diff=set_of_shapes.difference(favourites_shapes)\n",
        "print(\"difference\",diff)"
      ]
    },
    {
      "cell_type": "markdown",
      "metadata": {
        "id": "ALHfGriHWwHY"
      },
      "source": [
        "# Functions"
      ]
    },
    {
      "cell_type": "code",
      "execution_count": 42,
      "metadata": {
        "colab": {
          "base_uri": "https://localhost:8080/"
        },
        "id": "BnzR45quXw3h",
        "outputId": "a4571b5b-9c43-493c-8db8-c4e71ca164f1"
      },
      "outputs": [
        {
          "name": "stdout",
          "output_type": "stream",
          "text": [
            "6\n",
            "5\n"
          ]
        }
      ],
      "source": [
        "def incre(a):\n",
        "  a=a+1\n",
        "  return a\n",
        "\n",
        "s=5\n",
        "s=incre(s)\n",
        "print(s)\n",
        "\n",
        "def add(a,b):\n",
        "  return a+b\n",
        "print(add(3,2))\n"
      ]
    },
    {
      "cell_type": "code",
      "execution_count": 43,
      "metadata": {
        "colab": {
          "base_uri": "https://localhost:8080/"
        },
        "id": "liRvfvmeePIa",
        "outputId": "b4961425-0baa-4c5b-c31d-bf9954b9e8f4"
      },
      "outputs": [
        {
          "name": "stdout",
          "output_type": "stream",
          "text": [
            "Name:  bhagyashri\n",
            "Age  21\n",
            "Name:  bhagyashri\n",
            "Age  35\n"
          ]
        }
      ],
      "source": [
        "# Default Arguments\n",
        "def printinfo(name, age = 35):\n",
        "   print (\"Name: \", name)\n",
        "   print (\"Age \", age)\n",
        "   return\n",
        "printinfo(name=\"bhagyashri\",age=21)\n",
        "printinfo(name=\"bhagyashri\")"
      ]
    }
  ],
  "metadata": {
    "colab": {
      "collapsed_sections": [],
      "name": "Python_KSS_Part1.ipynb",
      "provenance": []
    },
    "kernelspec": {
      "display_name": "Python 3",
      "name": "python3"
    },
    "language_info": {
      "codemirror_mode": {
        "name": "ipython",
        "version": 3
      },
      "file_extension": ".py",
      "mimetype": "text/x-python",
      "name": "python",
      "nbconvert_exporter": "python",
      "pygments_lexer": "ipython3",
      "version": "3.8.10"
    }
  },
  "nbformat": 4,
  "nbformat_minor": 0
}
