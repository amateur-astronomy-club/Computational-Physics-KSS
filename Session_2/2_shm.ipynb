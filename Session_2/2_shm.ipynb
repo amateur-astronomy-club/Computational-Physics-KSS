{
 "cells": [
  {
   "cell_type": "code",
   "execution_count": null,
   "metadata": {},
   "outputs": [],
   "source": [
    "#Import necessary libraries\n",
    "import numpy as np #For Linear Algebra\n",
    "import matplotlib.pyplot as plt #For Data Visualization\n",
    "import math #For Mathematical Operations"
   ]
  },
  {
   "cell_type": "markdown",
   "metadata": {},
   "source": [
    "### Naive Algorithm"
   ]
  },
  {
   "cell_type": "code",
   "execution_count": null,
   "metadata": {},
   "outputs": [],
   "source": [
    "omega = 1.0 #Angular Frequecy\n",
    "h = 0.01 #Step Size\n",
    "it = 1000 #Iterations\n",
    "n = np.array(range(it+1)) #Iteration Array\n",
    "t = n*h #Time-step Array\n",
    "x_0 = 1.0 #Initial postion\n",
    "x_dot_0 = 0.0 #Initial velocity\n",
    "x = np.array([x_0]) #Array of positions\n",
    "x_dot = np.array([x_dot_0]) #Array of velocities\n",
    "# Algorithm\n",
    "for i in range(1, it+1):\n",
    "    x_1 = x_0 + h*x_dot_0\n",
    "    x_dot_1 = x_dot_0 - h*(omega**2)*x_0\n",
    "    x = np.append(x, x_1)\n",
    "    x_dot = np.append(x_dot, x_dot_1)\n",
    "    x_0 = x_1\n",
    "    x_dot_0 = x_dot_1\n",
    "# Plot the position-time graph\n",
    "plt.plot(t, x)\n",
    "plt.xlabel('t')\n",
    "plt.ylabel('x(t)')\n",
    "plt.show()\n",
    "# Plot the state-space graph\n",
    "plt.plot(x, x_dot)\n",
    "plt.xlabel('x(t)')\n",
    "plt.ylabel('v(t)')\n",
    "plt.show()"
   ]
  },
  {
   "cell_type": "markdown",
   "metadata": {},
   "source": [
    "### Naive Algorithm (Vectorized)"
   ]
  },
  {
   "cell_type": "code",
   "execution_count": null,
   "metadata": {},
   "outputs": [],
   "source": [
    "omega = 1.0 #Angular Frequency\n",
    "I = np.identity(2) #Identity Matrix\n",
    "h = 0.01 #Step Size\n",
    "it = 1000 #Iterations\n",
    "n = np.array(range(it+1)) #Iterations array\n",
    "t = n*h #Time-step array\n",
    "x_0 = np.array([[1.0], [0.0]], dtype=float) #Initial condition\n",
    "x = np.array(x_0)\n",
    "A = np.array([[0, 1], [-omega**2, 0]], dtype=float) #Linearization matrix\n",
    "# Algorithm\n",
    "for i in range(1, it+1):\n",
    "    x_1 = np.dot((I + h*A),x_0)\n",
    "    x = np.append(x, x_1, axis=1)\n",
    "    x_0 = x_1\n",
    "# Plot the graph  \n",
    "plt.plot(t, x[0])\n",
    "plt.xlabel('t')\n",
    "plt.ylabel('x(t)')\n",
    "plt.show()\n",
    "# Plot the state-space graph\n",
    "plt.plot(x[0], x[1])\n",
    "plt.xlabel('x(t)')\n",
    "plt.ylabel('v(t)')\n",
    "plt.show()\n"
   ]
  },
  {
   "cell_type": "markdown",
   "metadata": {},
   "source": [
    "### Improved Algorithm"
   ]
  },
  {
   "cell_type": "code",
   "execution_count": null,
   "metadata": {},
   "outputs": [],
   "source": [
    "omega = 1.0 #Angular Frequecy\n",
    "h = 0.001 #Step Size\n",
    "it = 100000 #Iterations\n",
    "n = np.array(range(it+1)) #Iteration Array\n",
    "t = n*h #Time-step Array\n",
    "x_0 = 1.0 #Initial postion\n",
    "x_dot_0 = 0.0 #Initial velocity\n",
    "x = np.array([x_0]) #Array of positions\n",
    "x_dot = np.array([x_dot_0]) #Array of velocities\n",
    "# Algorithm\n",
    "for i in range(1, it+1):\n",
    "    x_1 = x_0 + h*x_dot_0\n",
    "    x_dot_1 = x_dot_0 - h*(omega**2)*x_1\n",
    "    x = np.append(x, x_1)\n",
    "    x_dot = np.append(x_dot, x_dot_1)\n",
    "    x_0 = x_1\n",
    "    x_dot_0 = x_dot_1\n",
    "# Plot the position-time graph\n",
    "plt.plot(t, x)\n",
    "plt.xlabel('t')\n",
    "plt.ylabel('x(t)')\n",
    "plt.show()\n",
    "# Plot the state-space graph\n",
    "plt.plot(x, x_dot)\n",
    "plt.xlabel('x(t)')\n",
    "plt.ylabel('v(t)')\n",
    "plt.show()"
   ]
  }
 ],
 "metadata": {
  "interpreter": {
   "hash": "767d51c1340bd893661ea55ea3124f6de3c7a262a8b4abca0554b478b1e2ff90"
  },
  "kernelspec": {
   "display_name": "Python 3.8.10 64-bit",
   "language": "python",
   "name": "python3"
  },
  "language_info": {
   "codemirror_mode": {
    "name": "ipython",
    "version": 3
   },
   "file_extension": ".py",
   "mimetype": "text/x-python",
   "name": "python",
   "nbconvert_exporter": "python",
   "pygments_lexer": "ipython3",
   "version": "3.8.10"
  },
  "orig_nbformat": 4
 },
 "nbformat": 4,
 "nbformat_minor": 2
}
